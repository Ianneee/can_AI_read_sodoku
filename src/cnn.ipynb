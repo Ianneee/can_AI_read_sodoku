{
  "nbformat": 4,
  "nbformat_minor": 0,
  "metadata": {
    "colab": {
      "provenance": [],
      "gpuType": "T4",
      "authorship_tag": "ABX9TyPlSvmvqERh5Cp6N0Us5Gmn",
      "include_colab_link": true
    },
    "kernelspec": {
      "name": "python3",
      "display_name": "Python 3"
    },
    "language_info": {
      "name": "python"
    },
    "accelerator": "GPU"
  },
  "cells": [
    {
      "cell_type": "markdown",
      "metadata": {
        "id": "view-in-github",
        "colab_type": "text"
      },
      "source": [
        "<a href=\"https://colab.research.google.com/github/Ianneee/can_AI_solve_sodoku/blob/main/src/cnn.ipynb\" target=\"_parent\"><img src=\"https://colab.research.google.com/assets/colab-badge.svg\" alt=\"Open In Colab\"/></a>"
      ]
    },
    {
      "cell_type": "code",
      "source": [
        "!pip install torchmetrics > /dev/null && echo \"$(pip list | grep torchmetrics | awk '{print $1\" \"$2}') successfully installed\""
      ],
      "metadata": {
        "colab": {
          "base_uri": "https://localhost:8080/"
        },
        "id": "X7ITiTw_td7v",
        "outputId": "765b0e7a-9001-4d14-9040-068a49576496"
      },
      "execution_count": 1,
      "outputs": [
        {
          "output_type": "stream",
          "name": "stdout",
          "text": [
            "torchmetrics 1.0.3 successfully installed\n"
          ]
        }
      ]
    },
    {
      "cell_type": "code",
      "execution_count": 2,
      "metadata": {
        "colab": {
          "base_uri": "https://localhost:8080/"
        },
        "id": "FDeW-zHQn_Sg",
        "outputId": "7bd33e74-ac9d-4b89-87a5-2f7708f10db3"
      },
      "outputs": [
        {
          "output_type": "stream",
          "name": "stdout",
          "text": [
            "Downloading http://yann.lecun.com/exdb/mnist/train-images-idx3-ubyte.gz\n",
            "Downloading http://yann.lecun.com/exdb/mnist/train-images-idx3-ubyte.gz to ./data/MNIST/raw/train-images-idx3-ubyte.gz\n"
          ]
        },
        {
          "output_type": "stream",
          "name": "stderr",
          "text": [
            "100%|██████████| 9912422/9912422 [00:00<00:00, 96262355.28it/s]\n"
          ]
        },
        {
          "output_type": "stream",
          "name": "stdout",
          "text": [
            "Extracting ./data/MNIST/raw/train-images-idx3-ubyte.gz to ./data/MNIST/raw\n",
            "\n",
            "Downloading http://yann.lecun.com/exdb/mnist/train-labels-idx1-ubyte.gz\n",
            "Downloading http://yann.lecun.com/exdb/mnist/train-labels-idx1-ubyte.gz to ./data/MNIST/raw/train-labels-idx1-ubyte.gz\n"
          ]
        },
        {
          "output_type": "stream",
          "name": "stderr",
          "text": [
            "100%|██████████| 28881/28881 [00:00<00:00, 119699302.20it/s]\n"
          ]
        },
        {
          "output_type": "stream",
          "name": "stdout",
          "text": [
            "Extracting ./data/MNIST/raw/train-labels-idx1-ubyte.gz to ./data/MNIST/raw\n",
            "\n",
            "Downloading http://yann.lecun.com/exdb/mnist/t10k-images-idx3-ubyte.gz\n",
            "Downloading http://yann.lecun.com/exdb/mnist/t10k-images-idx3-ubyte.gz to ./data/MNIST/raw/t10k-images-idx3-ubyte.gz\n"
          ]
        },
        {
          "output_type": "stream",
          "name": "stderr",
          "text": [
            "100%|██████████| 1648877/1648877 [00:00<00:00, 22837763.46it/s]\n"
          ]
        },
        {
          "output_type": "stream",
          "name": "stdout",
          "text": [
            "Extracting ./data/MNIST/raw/t10k-images-idx3-ubyte.gz to ./data/MNIST/raw\n",
            "\n",
            "Downloading http://yann.lecun.com/exdb/mnist/t10k-labels-idx1-ubyte.gz\n",
            "Downloading http://yann.lecun.com/exdb/mnist/t10k-labels-idx1-ubyte.gz to ./data/MNIST/raw/t10k-labels-idx1-ubyte.gz\n"
          ]
        },
        {
          "output_type": "stream",
          "name": "stderr",
          "text": [
            "100%|██████████| 4542/4542 [00:00<00:00, 20911667.14it/s]"
          ]
        },
        {
          "output_type": "stream",
          "name": "stdout",
          "text": [
            "Extracting ./data/MNIST/raw/t10k-labels-idx1-ubyte.gz to ./data/MNIST/raw\n",
            "\n"
          ]
        },
        {
          "output_type": "stream",
          "name": "stderr",
          "text": [
            "\n"
          ]
        },
        {
          "output_type": "stream",
          "name": "stdout",
          "text": [
            "Trainset length: 60000\n",
            "Testset length: 10000\n",
            "Gpu enabled: True\n"
          ]
        }
      ],
      "source": [
        "import torch\n",
        "import torchvision.datasets as datasets\n",
        "from torch.utils.data import DataLoader\n",
        "from torchvision.transforms import ToTensor\n",
        "from torch import nn\n",
        "import torchmetrics\n",
        "\n",
        "trainset = datasets.MNIST(root='./data', train=True, download=True, transform=ToTensor())\n",
        "testset = datasets.MNIST(root='./data', train=False, download=True, transform=ToTensor())\n",
        "print(f'Trainset length: {len(trainset)}' if len(trainset) > 0 else 'Trainset length is 0!')\n",
        "print(f'Testset length: {len(testset)}' if len(testset) > 0 else 'Trainset length is 0!')\n",
        "\n",
        "is_cuda = torch.cuda.is_available()\n",
        "print(f'Gpu enabled: {is_cuda}')\n",
        "\n",
        "device = ('cuda' if is_cuda else 'cpu')\n",
        "\n",
        "\n",
        "class DigitsCNN(nn.Module):\n",
        "    def __init__(self):\n",
        "        super(DigitsCNN, self).__init__()\n",
        "        self.cnn = nn.Sequential(\n",
        "            nn.Conv2d(1, 5, 3),\n",
        "            nn.ReLU(),\n",
        "            nn.Conv2d(5, 10, 3),\n",
        "            nn.ReLU()\n",
        "        )\n",
        "        self.mlp = nn.Sequential(\n",
        "            nn.Linear(24 * 24 *10, 10),\n",
        "            nn.ReLU(),\n",
        "            nn.Linear(10, 10)\n",
        "        )\n",
        "\n",
        "    def forward(self, x):\n",
        "        x = self.cnn(x)\n",
        "        #print(x.shape)\n",
        "        x = torch.flatten(x, 1)\n",
        "        #print(x.shape)\n",
        "        x = self.mlp(x)\n",
        "        return x\n",
        "\n",
        "# Ez print metrics\n",
        "metric = torchmetrics.Accuracy(task='multiclass', num_classes=10).to(device)\n",
        "#metric = torchmetrics.Accuracy(task='multiclass', num_classes=10)"
      ]
    },
    {
      "cell_type": "code",
      "source": [
        "def train_loop(dataloader, model, loss_fn, optimizer):\n",
        "    for batch, (X, y) in enumerate(dataloader):\n",
        "        X_gpu = X.to(device)\n",
        "        y_gpu = y.to(device)\n",
        "\n",
        "        pred = model(X_gpu)\n",
        "        loss = loss_fn(pred, y_gpu)\n",
        "\n",
        "        # Backpropagation\n",
        "        loss.backward()\n",
        "        optimizer.step()\n",
        "        optimizer.zero_grad()\n",
        "\n",
        "        # Print stats\n",
        "        if batch % 100 == 0:\n",
        "            acc = metric(pred, y_gpu)\n",
        "            print(f'Accuracy batch {batch}: {acc}')\n",
        "\n",
        "    # Final accuracy for epoch\n",
        "    acc = metric.compute()\n",
        "    print(f'  Train accuracy: {acc}')\n",
        "    metric.reset()"
      ],
      "metadata": {
        "id": "psXcOfPFUvfV"
      },
      "execution_count": null,
      "outputs": []
    },
    {
      "cell_type": "code",
      "source": [
        "def test_loop(dataloader, model, loss_fn):\n",
        "    # disable weight update on test\n",
        "    with torch.no_grad():\n",
        "        for X, y in dataloader:\n",
        "            X_gpu = X.to(device)\n",
        "            y_gpu = y.to(device)\n",
        "\n",
        "            pred = model(X_gpu)\n",
        "            acc = metric(pred, y_gpu)\n",
        "\n",
        "    # print accuracy for epoch\n",
        "    acc = metric.compute()\n",
        "    print(f'  Test  accuracy : {acc}')\n",
        "    metric.reset()"
      ],
      "metadata": {
        "id": "4bvnEJbaiCom"
      },
      "execution_count": null,
      "outputs": []
    },
    {
      "cell_type": "code",
      "source": [
        "model = DigitsCNN().to(device)\n",
        "\n",
        "# Hyperparameters\n",
        "batch_size = 64\n",
        "epochs = 5\n",
        "learning_rate = 0.05\n",
        "\n",
        "loss_fn = nn.CrossEntropyLoss()\n",
        "optimizer = torch.optim.SGD(model.parameters(), lr=learning_rate)\n",
        "#optimizer = torch.optim.AdamW(model.parameters(), lr=learning_rate)\n",
        "\n",
        "train_dataloader = DataLoader(trainset, batch_size=batch_size)\n",
        "test_dataloader = DataLoader(testset, batch_size=batch_size)"
      ],
      "metadata": {
        "id": "yV9ZP7gFj1B0"
      },
      "execution_count": null,
      "outputs": []
    },
    {
      "cell_type": "code",
      "source": [
        "# run\n",
        "print(f'Parameters: batch size: {batch_size}, epochs: {epochs}, learning rate: {learning_rate}\\n')\n",
        "for t in range(epochs):\n",
        "    print(f'Epoch: {t}')\n",
        "    train_loop(train_dataloader, model, loss_fn, optimizer)\n",
        "    test_loop(test_dataloader, model, loss_fn)\n",
        "    print('\\n')"
      ],
      "metadata": {
        "colab": {
          "base_uri": "https://localhost:8080/"
        },
        "id": "ysSq9bNTitl0",
        "outputId": "71421540-344d-4843-e157-7c92e99bcf3c"
      },
      "execution_count": null,
      "outputs": [
        {
          "output_type": "stream",
          "name": "stdout",
          "text": [
            "Parameters: batch size: 64, epochs: 5, learning rate: 0.05\n",
            "\n",
            "Epoch: 0\n",
            "Accuracy batch 0: 0.140625\n",
            "Accuracy batch 100: 0.484375\n",
            "Accuracy batch 200: 0.828125\n",
            "Accuracy batch 300: 0.875\n",
            "Accuracy batch 400: 0.828125\n",
            "Accuracy batch 500: 0.890625\n",
            "Accuracy batch 600: 0.90625\n",
            "Accuracy batch 700: 0.90625\n",
            "Accuracy batch 800: 0.875\n",
            "Accuracy batch 900: 0.921875\n",
            "  Train accuracy: 0.765625\n",
            "  Test accuracy : 0.9140999913215637\n",
            "\n",
            "\n",
            "Epoch: 1\n",
            "Accuracy batch 0: 0.921875\n",
            "Accuracy batch 100: 0.9375\n",
            "Accuracy batch 200: 0.96875\n",
            "Accuracy batch 300: 0.90625\n",
            "Accuracy batch 400: 0.953125\n",
            "Accuracy batch 500: 0.96875\n",
            "Accuracy batch 600: 0.953125\n",
            "Accuracy batch 700: 0.9375\n",
            "Accuracy batch 800: 0.953125\n",
            "Accuracy batch 900: 0.9375\n",
            "  Train accuracy: 0.9437500238418579\n",
            "  Test accuracy : 0.9574000239372253\n",
            "\n",
            "\n",
            "Epoch: 2\n",
            "Accuracy batch 0: 0.96875\n",
            "Accuracy batch 100: 0.953125\n",
            "Accuracy batch 200: 0.9375\n",
            "Accuracy batch 300: 0.9375\n",
            "Accuracy batch 400: 1.0\n",
            "Accuracy batch 500: 0.984375\n",
            "Accuracy batch 600: 0.984375\n",
            "Accuracy batch 700: 0.984375\n",
            "Accuracy batch 800: 0.96875\n",
            "Accuracy batch 900: 0.953125\n",
            "  Train accuracy: 0.9671875238418579\n",
            "  Test accuracy : 0.9692999720573425\n",
            "\n",
            "\n",
            "Epoch: 3\n",
            "Accuracy batch 0: 0.96875\n",
            "Accuracy batch 100: 0.96875\n",
            "Accuracy batch 200: 0.984375\n",
            "Accuracy batch 300: 0.953125\n",
            "Accuracy batch 400: 1.0\n",
            "Accuracy batch 500: 0.984375\n",
            "Accuracy batch 600: 0.984375\n",
            "Accuracy batch 700: 0.984375\n",
            "Accuracy batch 800: 0.96875\n",
            "Accuracy batch 900: 0.953125\n",
            "  Train accuracy: 0.9750000238418579\n",
            "  Test accuracy : 0.9739000201225281\n",
            "\n",
            "\n",
            "Epoch: 4\n",
            "Accuracy batch 0: 0.96875\n",
            "Accuracy batch 100: 0.96875\n",
            "Accuracy batch 200: 0.96875\n",
            "Accuracy batch 300: 0.953125\n",
            "Accuracy batch 400: 0.984375\n",
            "Accuracy batch 500: 0.984375\n",
            "Accuracy batch 600: 0.984375\n",
            "Accuracy batch 700: 0.96875\n",
            "Accuracy batch 800: 0.96875\n",
            "Accuracy batch 900: 0.953125\n",
            "  Train accuracy: 0.9703124761581421\n",
            "  Test accuracy : 0.9775999784469604\n",
            "\n",
            "\n"
          ]
        }
      ]
    },
    {
      "cell_type": "markdown",
      "source": [
        "## Save and download the model"
      ],
      "metadata": {
        "id": "ix5xua2QwZJI"
      }
    },
    {
      "cell_type": "code",
      "source": [
        "model_name = 'model.pt'\n",
        "\n",
        "torch.save(model.state_dict(), model_name)\n",
        "print(f'Model {model_name} saved.')\n",
        "\n",
        "from google.colab import files\n",
        "files.download(model_name)\n",
        "print(f'Model {model_name} downloaded.')"
      ],
      "metadata": {
        "colab": {
          "base_uri": "https://localhost:8080/",
          "height": 52
        },
        "id": "t6c-WHJJvMrA",
        "outputId": "f88b24ff-9252-4c4b-8a90-d450d0340e82"
      },
      "execution_count": null,
      "outputs": [
        {
          "output_type": "stream",
          "name": "stdout",
          "text": [
            "Model model.pt saved.\n"
          ]
        },
        {
          "output_type": "display_data",
          "data": {
            "text/plain": [
              "<IPython.core.display.Javascript object>"
            ],
            "application/javascript": [
              "\n",
              "    async function download(id, filename, size) {\n",
              "      if (!google.colab.kernel.accessAllowed) {\n",
              "        return;\n",
              "      }\n",
              "      const div = document.createElement('div');\n",
              "      const label = document.createElement('label');\n",
              "      label.textContent = `Downloading \"${filename}\": `;\n",
              "      div.appendChild(label);\n",
              "      const progress = document.createElement('progress');\n",
              "      progress.max = size;\n",
              "      div.appendChild(progress);\n",
              "      document.body.appendChild(div);\n",
              "\n",
              "      const buffers = [];\n",
              "      let downloaded = 0;\n",
              "\n",
              "      const channel = await google.colab.kernel.comms.open(id);\n",
              "      // Send a message to notify the kernel that we're ready.\n",
              "      channel.send({})\n",
              "\n",
              "      for await (const message of channel.messages) {\n",
              "        // Send a message to notify the kernel that we're ready.\n",
              "        channel.send({})\n",
              "        if (message.buffers) {\n",
              "          for (const buffer of message.buffers) {\n",
              "            buffers.push(buffer);\n",
              "            downloaded += buffer.byteLength;\n",
              "            progress.value = downloaded;\n",
              "          }\n",
              "        }\n",
              "      }\n",
              "      const blob = new Blob(buffers, {type: 'application/binary'});\n",
              "      const a = document.createElement('a');\n",
              "      a.href = window.URL.createObjectURL(blob);\n",
              "      a.download = filename;\n",
              "      div.appendChild(a);\n",
              "      a.click();\n",
              "      div.remove();\n",
              "    }\n",
              "  "
            ]
          },
          "metadata": {}
        },
        {
          "output_type": "display_data",
          "data": {
            "text/plain": [
              "<IPython.core.display.Javascript object>"
            ],
            "application/javascript": [
              "download(\"download_764330c0-5af2-4336-9f70-3f64d2d92051\", \"model.pt\", 235515)"
            ]
          },
          "metadata": {}
        },
        {
          "output_type": "stream",
          "name": "stdout",
          "text": [
            "Model model.pt downloaded.\n"
          ]
        }
      ]
    }
  ]
}