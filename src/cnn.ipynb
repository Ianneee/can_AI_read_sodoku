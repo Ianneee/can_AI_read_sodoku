{
  "nbformat": 4,
  "nbformat_minor": 0,
  "metadata": {
    "colab": {
      "provenance": [],
      "gpuType": "T4",
      "authorship_tag": "ABX9TyPQVOPq01fcs67mv5rbENz7",
      "include_colab_link": true
    },
    "kernelspec": {
      "name": "python3",
      "display_name": "Python 3"
    },
    "language_info": {
      "name": "python"
    },
    "accelerator": "GPU"
  },
  "cells": [
    {
      "cell_type": "markdown",
      "metadata": {
        "id": "view-in-github",
        "colab_type": "text"
      },
      "source": [
        "<a href=\"https://colab.research.google.com/github/Ianneee/can_AI_solve_sodoku/blob/main/src/cnn.ipynb\" target=\"_parent\"><img src=\"https://colab.research.google.com/assets/colab-badge.svg\" alt=\"Open In Colab\"/></a>"
      ]
    },
    {
      "cell_type": "code",
      "source": [
        "!pip install torchmetrics"
      ],
      "metadata": {
        "colab": {
          "base_uri": "https://localhost:8080/"
        },
        "id": "X7ITiTw_td7v",
        "outputId": "93c26337-bb6e-4140-f132-9339c596e0c5"
      },
      "execution_count": 1,
      "outputs": [
        {
          "output_type": "stream",
          "name": "stdout",
          "text": [
            "Collecting torchmetrics\n",
            "  Downloading torchmetrics-1.0.3-py3-none-any.whl (731 kB)\n",
            "\u001b[2K     \u001b[90m━━━━━━━━━━━━━━━━━━━━━━━━━━━━━━━━━━━━━━━\u001b[0m \u001b[32m731.6/731.6 kB\u001b[0m \u001b[31m7.4 MB/s\u001b[0m eta \u001b[36m0:00:00\u001b[0m\n",
            "\u001b[?25hRequirement already satisfied: numpy>1.20.0 in /usr/local/lib/python3.10/dist-packages (from torchmetrics) (1.23.5)\n",
            "Requirement already satisfied: torch>=1.8.1 in /usr/local/lib/python3.10/dist-packages (from torchmetrics) (2.0.1+cu118)\n",
            "Requirement already satisfied: packaging in /usr/local/lib/python3.10/dist-packages (from torchmetrics) (23.1)\n",
            "Collecting lightning-utilities>=0.7.0 (from torchmetrics)\n",
            "  Downloading lightning_utilities-0.9.0-py3-none-any.whl (23 kB)\n",
            "Requirement already satisfied: typing-extensions in /usr/local/lib/python3.10/dist-packages (from lightning-utilities>=0.7.0->torchmetrics) (4.7.1)\n",
            "Requirement already satisfied: filelock in /usr/local/lib/python3.10/dist-packages (from torch>=1.8.1->torchmetrics) (3.12.2)\n",
            "Requirement already satisfied: sympy in /usr/local/lib/python3.10/dist-packages (from torch>=1.8.1->torchmetrics) (1.12)\n",
            "Requirement already satisfied: networkx in /usr/local/lib/python3.10/dist-packages (from torch>=1.8.1->torchmetrics) (3.1)\n",
            "Requirement already satisfied: jinja2 in /usr/local/lib/python3.10/dist-packages (from torch>=1.8.1->torchmetrics) (3.1.2)\n",
            "Requirement already satisfied: triton==2.0.0 in /usr/local/lib/python3.10/dist-packages (from torch>=1.8.1->torchmetrics) (2.0.0)\n",
            "Requirement already satisfied: cmake in /usr/local/lib/python3.10/dist-packages (from triton==2.0.0->torch>=1.8.1->torchmetrics) (3.27.1)\n",
            "Requirement already satisfied: lit in /usr/local/lib/python3.10/dist-packages (from triton==2.0.0->torch>=1.8.1->torchmetrics) (16.0.6)\n",
            "Requirement already satisfied: MarkupSafe>=2.0 in /usr/local/lib/python3.10/dist-packages (from jinja2->torch>=1.8.1->torchmetrics) (2.1.3)\n",
            "Requirement already satisfied: mpmath>=0.19 in /usr/local/lib/python3.10/dist-packages (from sympy->torch>=1.8.1->torchmetrics) (1.3.0)\n",
            "Installing collected packages: lightning-utilities, torchmetrics\n",
            "Successfully installed lightning-utilities-0.9.0 torchmetrics-1.0.3\n"
          ]
        }
      ]
    },
    {
      "cell_type": "code",
      "execution_count": 14,
      "metadata": {
        "colab": {
          "base_uri": "https://localhost:8080/"
        },
        "id": "FDeW-zHQn_Sg",
        "outputId": "86b14a6a-7af6-4005-ca56-3b05cbb118fe"
      },
      "outputs": [
        {
          "output_type": "stream",
          "name": "stdout",
          "text": [
            "Is gpu enabled: True\n",
            "Trainset length: 60000\n",
            "Testset length: 10000\n"
          ]
        }
      ],
      "source": [
        "import torch\n",
        "import torchvision.datasets as datasets\n",
        "from torch.utils.data import DataLoader\n",
        "from torchvision.transforms import ToTensor\n",
        "from torch import nn\n",
        "import torchmetrics\n",
        "\n",
        "is_cuda = torch.cuda.is_available()\n",
        "print(f'Is gpu enabled: {is_cuda}')\n",
        "\n",
        "device = ('cuda' if is_cuda else 'cpu')\n",
        "\n",
        "trainset = datasets.MNIST(root='./data', train=True, download=True, transform=ToTensor())\n",
        "testset = datasets.MNIST(root='./data', train=False, download=True, transform=ToTensor())\n",
        "\n",
        "print(f'Trainset length: {len(trainset)}' if len(trainset) > 0 else 'Trainset length is 0!')\n",
        "print(f'Testset length: {len(testset)}' if len(testset) > 0 else 'Trainset length is 0!')\n",
        "\n",
        "class DigitsCNN(nn.Module):\n",
        "    def __init__(self):\n",
        "        super(DigitsCNN, self).__init__()\n",
        "        self.cnn = nn.Sequential(\n",
        "            # (Num of channels in input, number of filters, kernel size)\n",
        "            nn.Conv2d(1, 5, 3),\n",
        "            nn.ReLU(),\n",
        "            nn.Conv2d(5, 10, 3),\n",
        "            nn.ReLU()\n",
        "        )\n",
        "        self.mlp = nn.Sequential(\n",
        "            nn.Linear(24 * 24 *10, 10),\n",
        "            nn.ReLU(),\n",
        "            nn.Linear(10, 10)\n",
        "        )\n",
        "\n",
        "    def forward(self, x):\n",
        "        x = self.cnn(x)\n",
        "        #print(x.shape)\n",
        "        x = torch.flatten(x, 1)\n",
        "        #print(x.shape)\n",
        "        x = self.mlp(x)\n",
        "        return x\n",
        "\n",
        " # Ez print metrics\n",
        "metric = torchmetrics.Accuracy(task='multiclass', num_classes=10).to(device)\n",
        "#metric = torchmetrics.Accuracy(task='multiclass', num_classes=10)\n"
      ]
    },
    {
      "cell_type": "code",
      "source": [
        "def train_loop(dataloader, model, loss_fn, optimizer):\n",
        "    for batch, (X, y) in enumerate(dataloader):\n",
        "        X_gpu = X.to(device)\n",
        "        y_gpu = y.to(device)\n",
        "\n",
        "        pred = model(X_gpu)\n",
        "        loss = loss_fn(pred, y_gpu)\n",
        "\n",
        "        # Backpropagation\n",
        "        loss.backward()\n",
        "        optimizer.step()\n",
        "        optimizer.zero_grad()\n",
        "\n",
        "        # Print stats\n",
        "        if batch % 100 == 0:\n",
        "            acc = metric(pred, y_gpu)\n",
        "            print(f'Accuracy batch {batch}: {acc}')\n",
        "\n",
        "    # Final accuracy for epoch\n",
        "    acc = metric.compute()\n",
        "    print(f'  Train accuracy: {acc}')\n",
        "    metric.reset()\n"
      ],
      "metadata": {
        "id": "psXcOfPFUvfV"
      },
      "execution_count": 29,
      "outputs": []
    },
    {
      "cell_type": "code",
      "source": [
        "def test_loop(dataloader, model, loss_fn):\n",
        "    # disable weight update on test\n",
        "    with torch.no_grad():\n",
        "        for X, y in dataloader:\n",
        "            X_gpu = X.to(device)\n",
        "            y_gpu = y.to(device)\n",
        "\n",
        "            pred = model(X_gpu)\n",
        "            acc = metric(pred, y_gpu)\n",
        "\n",
        "    # print accuracy for epoch\n",
        "    acc = metric.compute()\n",
        "    print(f'  Test accuracy : {acc}')\n",
        "    metric.reset()"
      ],
      "metadata": {
        "id": "4bvnEJbaiCom"
      },
      "execution_count": 31,
      "outputs": []
    },
    {
      "cell_type": "code",
      "source": [
        "model = DigitsCNN().to(device)\n",
        "\n",
        "# Hyperparameters\n",
        "batch_size = 64\n",
        "epochs = 5\n",
        "learning_rate = 0.05\n",
        "\n",
        "loss_fn = nn.CrossEntropyLoss()\n",
        "optimizer = torch.optim.SGD(model.parameters(), lr=learning_rate)\n",
        "#optimizer = torch.optim.AdamW(model.parameters(), lr=learning_rate)\n",
        "\n",
        "train_dataloader = DataLoader(trainset, batch_size=batch_size)\n",
        "test_dataloader = DataLoader(testset, batch_size=batch_size)"
      ],
      "metadata": {
        "id": "yV9ZP7gFj1B0"
      },
      "execution_count": 27,
      "outputs": []
    },
    {
      "cell_type": "code",
      "source": [
        "# run\n",
        "print(f'Parameters: batch size: {batch_size}, epochs: {epochs}, learning rate: {learning_rate}\\n')\n",
        "for t in range(epochs):\n",
        "    print(f'Epoch: {t}')\n",
        "    train_loop(train_dataloader, model, loss_fn, optimizer)\n",
        "    test_loop(test_dataloader, model, loss_fn)\n",
        "    print('\\n')"
      ],
      "metadata": {
        "colab": {
          "base_uri": "https://localhost:8080/"
        },
        "id": "ysSq9bNTitl0",
        "outputId": "a2f9b511-8a88-4283-b380-6df0e9ea8dc6"
      },
      "execution_count": 30,
      "outputs": [
        {
          "output_type": "stream",
          "name": "stdout",
          "text": [
            "Parameters: batch size: 64, epochs: 5, learning rate: 0.05\n",
            "\n",
            "Epoch: 0\n",
            "Accuracy batch 0: 0.984375\n",
            "Accuracy batch 100: 0.984375\n",
            "Accuracy batch 200: 0.984375\n",
            "Accuracy batch 300: 0.9375\n",
            "Accuracy batch 400: 1.0\n",
            "Accuracy batch 500: 0.96875\n",
            "Accuracy batch 600: 0.984375\n",
            "Accuracy batch 700: 0.984375\n",
            "Accuracy batch 800: 0.96875\n",
            "Accuracy batch 900: 0.96875\n",
            "  Train accuracy: 0.9765625\n",
            "  Test accuracy: 0.9724000096321106\n",
            "\n",
            "\n",
            "Epoch: 1\n",
            "Accuracy batch 0: 1.0\n",
            "Accuracy batch 100: 0.984375\n",
            "Accuracy batch 200: 0.984375\n",
            "Accuracy batch 300: 0.953125\n",
            "Accuracy batch 400: 1.0\n",
            "Accuracy batch 500: 0.96875\n",
            "Accuracy batch 600: 0.984375\n",
            "Accuracy batch 700: 0.984375\n",
            "Accuracy batch 800: 0.953125\n",
            "Accuracy batch 900: 0.984375\n",
            "  Train accuracy: 0.979687511920929\n",
            "  Test accuracy: 0.9732999801635742\n",
            "\n",
            "\n",
            "Epoch: 2\n",
            "Accuracy batch 0: 1.0\n",
            "Accuracy batch 100: 1.0\n",
            "Accuracy batch 200: 0.984375\n",
            "Accuracy batch 300: 0.953125\n",
            "Accuracy batch 400: 1.0\n",
            "Accuracy batch 500: 0.96875\n",
            "Accuracy batch 600: 0.984375\n",
            "Accuracy batch 700: 0.96875\n",
            "Accuracy batch 800: 0.953125\n",
            "Accuracy batch 900: 1.0\n",
            "  Train accuracy: 0.981249988079071\n",
            "  Test accuracy: 0.9747999906539917\n",
            "\n",
            "\n",
            "Epoch: 3\n",
            "Accuracy batch 0: 1.0\n",
            "Accuracy batch 100: 1.0\n",
            "Accuracy batch 200: 0.984375\n",
            "Accuracy batch 300: 0.953125\n",
            "Accuracy batch 400: 1.0\n",
            "Accuracy batch 500: 0.984375\n",
            "Accuracy batch 600: 0.984375\n",
            "Accuracy batch 700: 0.96875\n",
            "Accuracy batch 800: 0.953125\n",
            "Accuracy batch 900: 0.984375\n",
            "  Train accuracy: 0.981249988079071\n",
            "  Test accuracy: 0.9746000170707703\n",
            "\n",
            "\n",
            "Epoch: 4\n",
            "Accuracy batch 0: 0.984375\n",
            "Accuracy batch 100: 1.0\n",
            "Accuracy batch 200: 0.984375\n",
            "Accuracy batch 300: 0.96875\n",
            "Accuracy batch 400: 1.0\n",
            "Accuracy batch 500: 1.0\n",
            "Accuracy batch 600: 0.984375\n",
            "Accuracy batch 700: 1.0\n",
            "Accuracy batch 800: 0.96875\n",
            "Accuracy batch 900: 1.0\n",
            "  Train accuracy: 0.989062488079071\n",
            "  Test accuracy: 0.9768999814987183\n",
            "\n",
            "\n"
          ]
        }
      ]
    },
    {
      "cell_type": "code",
      "source": [],
      "metadata": {
        "id": "4GqELKu0jonh"
      },
      "execution_count": null,
      "outputs": []
    }
  ]
}